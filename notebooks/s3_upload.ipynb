{
 "cells": [
  {
   "cell_type": "code",
   "execution_count": 9,
   "id": "31d5c22f",
   "metadata": {},
   "outputs": [],
   "source": [
    "import os\n",
    "import sys\n",
    "import boto3\n",
    "from botocore.exceptions import ClientError, BotoCoreError\n",
    "from dotenv import load_dotenv\n",
    "import logging"
   ]
  },
  {
   "cell_type": "code",
   "execution_count": 10,
   "id": "53367fd6",
   "metadata": {},
   "outputs": [],
   "source": [
    "logging.basicConfig(level=logging.INFO)\n",
    "logger = logging.getLogger(__name__)"
   ]
  },
  {
   "cell_type": "code",
   "execution_count": 11,
   "id": "4dad74c5",
   "metadata": {},
   "outputs": [
    {
     "data": {
      "text/plain": [
       "True"
      ]
     },
     "execution_count": 11,
     "metadata": {},
     "output_type": "execute_result"
    }
   ],
   "source": [
    "load_dotenv()"
   ]
  },
  {
   "cell_type": "code",
   "execution_count": 12,
   "id": "7d562d4d",
   "metadata": {},
   "outputs": [],
   "source": [
    "start_data = os.getenv(\"trip_start\")\n",
    "end_data = os.getenv(\"trip_end\")\n",
    "access_key = os.getenv(\"Access_key_ID\")\n",
    "secret_key = os.getenv(\"Secret_access_key\")\n",
    "bucket_name = os.getenv(\"bucket_name\")\n",
    "region = os.getenv(\"region\")\n",
    "s3_prefix = \"raw-data/\""
   ]
  },
  {
   "cell_type": "code",
   "execution_count": 13,
   "id": "57f0e158",
   "metadata": {},
   "outputs": [],
   "source": [
    "s3 = boto3.client(\n",
    "    's3',\n",
    "    aws_access_key_id=access_key,\n",
    "    aws_secret_access_key=secret_key,\n",
    "    region_name=region\n",
    ")"
   ]
  },
  {
   "cell_type": "code",
   "execution_count": 14,
   "id": "df160ba3",
   "metadata": {},
   "outputs": [],
   "source": [
    "def upload_file_to_s3(s3_client, file_path, bucket_name, s3_key):\n",
    "    \"\"\"Upload a single file to S3.\"\"\"\n",
    "    if file_path is None:\n",
    "        logger.error(\"File path is None. Please provide a valid file path.\")\n",
    "        raise ValueError(\"File path cannot be None.\")\n",
    "    \n",
    "    if not os.path.exists(file_path):\n",
    "        logger.error(f\"File {file_path} does not exist.\")\n",
    "        raise FileNotFoundError(f\"File {file_path} does not exist.\")\n",
    "    \n",
    "    try:\n",
    "        s3_client.upload_file(file_path, bucket_name, s3_key)\n",
    "        logger.info(f\"Successfully uploaded {file_path} to s3://{bucket_name}/{s3_key}\")\n",
    "    except ClientError as e:\n",
    "        logger.error(f\"Failed to upload {file_path} to S3: {str(e)}\")\n",
    "        raise"
   ]
  },
  {
   "cell_type": "code",
   "execution_count": 15,
   "id": "d6739a44",
   "metadata": {},
   "outputs": [
    {
     "name": "stderr",
     "output_type": "stream",
     "text": [
      "INFO:__main__:Successfully uploaded ../data/trip_start.csv to s3://nsp-taxi-trips/raw-data/trip_start.csv\n"
     ]
    }
   ],
   "source": [
    "try:\n",
    "    s3_key = f\"{s3_prefix}{os.path.basename(start_data)}\"\n",
    "    upload_file_to_s3(s3, start_data, bucket_name, s3_key)\n",
    "except (ValueError, FileNotFoundError, ClientError) as e:\n",
    "    logger.error(f\"Error uploading file: {str(e)}\")"
   ]
  },
  {
   "cell_type": "code",
   "execution_count": 16,
   "id": "2adada99",
   "metadata": {},
   "outputs": [
    {
     "name": "stderr",
     "output_type": "stream",
     "text": [
      "INFO:__main__:Successfully uploaded ../data/trip_start.csv to s3://nsp-taxi-trips/raw-data/trip_end.csv\n"
     ]
    }
   ],
   "source": [
    "try:\n",
    "    s3_key = f\"{s3_prefix}{os.path.basename(end_data)}\"\n",
    "    upload_file_to_s3(s3, start_data, bucket_name, s3_key)\n",
    "except (ValueError, FileNotFoundError, ClientError) as e:\n",
    "    logger.error(f\"Error uploading file: {str(e)}\")"
   ]
  },
  {
   "cell_type": "code",
   "execution_count": null,
   "id": "3ef4d7c8",
   "metadata": {},
   "outputs": [],
   "source": []
  }
 ],
 "metadata": {
  "kernelspec": {
   "display_name": "venv",
   "language": "python",
   "name": "python3"
  },
  "language_info": {
   "codemirror_mode": {
    "name": "ipython",
    "version": 3
   },
   "file_extension": ".py",
   "mimetype": "text/x-python",
   "name": "python",
   "nbconvert_exporter": "python",
   "pygments_lexer": "ipython3",
   "version": "3.12.3"
  }
 },
 "nbformat": 4,
 "nbformat_minor": 5
}
